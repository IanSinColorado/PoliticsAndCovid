{
 "cells": [
  {
   "cell_type": "code",
   "execution_count": 2,
   "metadata": {},
   "outputs": [],
   "source": [
    "import numpy as np\n",
    "import pandas as pd\n",
    "import matplotlib.pyplot as plt\n",
    "import seaborn as sns"
   ]
  },
  {
   "cell_type": "code",
   "execution_count": 3,
   "metadata": {},
   "outputs": [
    {
     "name": "stdout",
     "output_type": "stream",
     "text": [
      "(32452, 20)\n"
     ]
    },
    {
     "data": {
      "text/html": [
       "<div>\n",
       "<style scoped>\n",
       "    .dataframe tbody tr th:only-of-type {\n",
       "        vertical-align: middle;\n",
       "    }\n",
       "\n",
       "    .dataframe tbody tr th {\n",
       "        vertical-align: top;\n",
       "    }\n",
       "\n",
       "    .dataframe thead th {\n",
       "        text-align: right;\n",
       "    }\n",
       "</style>\n",
       "<table border=\"1\" class=\"dataframe\">\n",
       "  <thead>\n",
       "    <tr style=\"text-align: right;\">\n",
       "      <th></th>\n",
       "      <th>year</th>\n",
       "      <th>state</th>\n",
       "      <th>state_po</th>\n",
       "      <th>party</th>\n",
       "      <th>candidatevotes</th>\n",
       "      <th>totalvotes</th>\n",
       "      <th>unofficial</th>\n",
       "      <th>district</th>\n",
       "    </tr>\n",
       "  </thead>\n",
       "  <tbody>\n",
       "    <tr>\n",
       "      <th>0</th>\n",
       "      <td>1976</td>\n",
       "      <td>ALABAMA</td>\n",
       "      <td>AL</td>\n",
       "      <td>DEMOCRAT</td>\n",
       "      <td>58906</td>\n",
       "      <td>157170</td>\n",
       "      <td>False</td>\n",
       "      <td>1</td>\n",
       "    </tr>\n",
       "    <tr>\n",
       "      <th>1</th>\n",
       "      <td>1976</td>\n",
       "      <td>ALABAMA</td>\n",
       "      <td>AL</td>\n",
       "      <td>REPUBLICAN</td>\n",
       "      <td>98257</td>\n",
       "      <td>157170</td>\n",
       "      <td>False</td>\n",
       "      <td>1</td>\n",
       "    </tr>\n",
       "    <tr>\n",
       "      <th>2</th>\n",
       "      <td>1976</td>\n",
       "      <td>ALABAMA</td>\n",
       "      <td>AL</td>\n",
       "      <td>NaN</td>\n",
       "      <td>7</td>\n",
       "      <td>157170</td>\n",
       "      <td>False</td>\n",
       "      <td>1</td>\n",
       "    </tr>\n",
       "    <tr>\n",
       "      <th>3</th>\n",
       "      <td>1976</td>\n",
       "      <td>ALABAMA</td>\n",
       "      <td>AL</td>\n",
       "      <td>DEMOCRAT</td>\n",
       "      <td>66288</td>\n",
       "      <td>156362</td>\n",
       "      <td>False</td>\n",
       "      <td>2</td>\n",
       "    </tr>\n",
       "    <tr>\n",
       "      <th>4</th>\n",
       "      <td>1976</td>\n",
       "      <td>ALABAMA</td>\n",
       "      <td>AL</td>\n",
       "      <td>REPUBLICAN</td>\n",
       "      <td>90069</td>\n",
       "      <td>156362</td>\n",
       "      <td>False</td>\n",
       "      <td>2</td>\n",
       "    </tr>\n",
       "  </tbody>\n",
       "</table>\n",
       "</div>"
      ],
      "text/plain": [
       "   year    state state_po       party  candidatevotes  totalvotes  unofficial  \\\n",
       "0  1976  ALABAMA       AL    DEMOCRAT           58906      157170       False   \n",
       "1  1976  ALABAMA       AL  REPUBLICAN           98257      157170       False   \n",
       "2  1976  ALABAMA       AL         NaN               7      157170       False   \n",
       "3  1976  ALABAMA       AL    DEMOCRAT           66288      156362       False   \n",
       "4  1976  ALABAMA       AL  REPUBLICAN           90069      156362       False   \n",
       "\n",
       "   district  \n",
       "0         1  \n",
       "1         1  \n",
       "2         1  \n",
       "3         2  \n",
       "4         2  "
      ]
     },
     "execution_count": 3,
     "metadata": {},
     "output_type": "execute_result"
    }
   ],
   "source": [
    "house_df = pd.read_csv('../Data/1976-2022-house.csv')\n",
    "print(house_df.shape)\n",
    "house_df = house_df[['year', 'state', 'state_po', 'party', 'candidatevotes', 'totalvotes', 'unofficial', 'district']]\n",
    "house_df.head()"
   ]
  },
  {
   "cell_type": "code",
   "execution_count": 4,
   "metadata": {},
   "outputs": [
    {
     "data": {
      "text/html": [
       "<div>\n",
       "<style scoped>\n",
       "    .dataframe tbody tr th:only-of-type {\n",
       "        vertical-align: middle;\n",
       "    }\n",
       "\n",
       "    .dataframe tbody tr th {\n",
       "        vertical-align: top;\n",
       "    }\n",
       "\n",
       "    .dataframe thead th {\n",
       "        text-align: right;\n",
       "    }\n",
       "</style>\n",
       "<table border=\"1\" class=\"dataframe\">\n",
       "  <thead>\n",
       "    <tr style=\"text-align: right;\">\n",
       "      <th></th>\n",
       "      <th>year</th>\n",
       "      <th>state</th>\n",
       "      <th>state_po</th>\n",
       "      <th>party</th>\n",
       "      <th>candidatevotes</th>\n",
       "      <th>totalvotes</th>\n",
       "      <th>unofficial</th>\n",
       "      <th>district</th>\n",
       "    </tr>\n",
       "  </thead>\n",
       "  <tbody>\n",
       "    <tr>\n",
       "      <th>0</th>\n",
       "      <td>1976</td>\n",
       "      <td>ALABAMA</td>\n",
       "      <td>AL</td>\n",
       "      <td>DEMOCRAT</td>\n",
       "      <td>58906</td>\n",
       "      <td>157170</td>\n",
       "      <td>False</td>\n",
       "      <td>1</td>\n",
       "    </tr>\n",
       "    <tr>\n",
       "      <th>1</th>\n",
       "      <td>1976</td>\n",
       "      <td>ALABAMA</td>\n",
       "      <td>AL</td>\n",
       "      <td>REPUBLICAN</td>\n",
       "      <td>98257</td>\n",
       "      <td>157170</td>\n",
       "      <td>False</td>\n",
       "      <td>1</td>\n",
       "    </tr>\n",
       "    <tr>\n",
       "      <th>2</th>\n",
       "      <td>1976</td>\n",
       "      <td>ALABAMA</td>\n",
       "      <td>AL</td>\n",
       "      <td>OTHER</td>\n",
       "      <td>7</td>\n",
       "      <td>157170</td>\n",
       "      <td>False</td>\n",
       "      <td>1</td>\n",
       "    </tr>\n",
       "    <tr>\n",
       "      <th>3</th>\n",
       "      <td>1976</td>\n",
       "      <td>ALABAMA</td>\n",
       "      <td>AL</td>\n",
       "      <td>DEMOCRAT</td>\n",
       "      <td>66288</td>\n",
       "      <td>156362</td>\n",
       "      <td>False</td>\n",
       "      <td>2</td>\n",
       "    </tr>\n",
       "    <tr>\n",
       "      <th>4</th>\n",
       "      <td>1976</td>\n",
       "      <td>ALABAMA</td>\n",
       "      <td>AL</td>\n",
       "      <td>REPUBLICAN</td>\n",
       "      <td>90069</td>\n",
       "      <td>156362</td>\n",
       "      <td>False</td>\n",
       "      <td>2</td>\n",
       "    </tr>\n",
       "  </tbody>\n",
       "</table>\n",
       "</div>"
      ],
      "text/plain": [
       "   year    state state_po       party  candidatevotes  totalvotes  unofficial  \\\n",
       "0  1976  ALABAMA       AL    DEMOCRAT           58906      157170       False   \n",
       "1  1976  ALABAMA       AL  REPUBLICAN           98257      157170       False   \n",
       "2  1976  ALABAMA       AL       OTHER               7      157170       False   \n",
       "3  1976  ALABAMA       AL    DEMOCRAT           66288      156362       False   \n",
       "4  1976  ALABAMA       AL  REPUBLICAN           90069      156362       False   \n",
       "\n",
       "   district  \n",
       "0         1  \n",
       "1         1  \n",
       "2         1  \n",
       "3         2  \n",
       "4         2  "
      ]
     },
     "execution_count": 4,
     "metadata": {},
     "output_type": "execute_result"
    }
   ],
   "source": [
    "# Won't count votes if the party is NaN, so replace with OTHER\n",
    "house_df['party'].fillna('OTHER', inplace=True)\n",
    "house_df.head()"
   ]
  },
  {
   "cell_type": "code",
   "execution_count": 5,
   "metadata": {},
   "outputs": [
    {
     "name": "stdout",
     "output_type": "stream",
     "text": [
      "(2816, 8)\n"
     ]
    },
    {
     "data": {
      "text/html": [
       "<div>\n",
       "<style scoped>\n",
       "    .dataframe tbody tr th:only-of-type {\n",
       "        vertical-align: middle;\n",
       "    }\n",
       "\n",
       "    .dataframe tbody tr th {\n",
       "        vertical-align: top;\n",
       "    }\n",
       "\n",
       "    .dataframe thead th {\n",
       "        text-align: right;\n",
       "    }\n",
       "</style>\n",
       "<table border=\"1\" class=\"dataframe\">\n",
       "  <thead>\n",
       "    <tr style=\"text-align: right;\">\n",
       "      <th></th>\n",
       "      <th>year</th>\n",
       "      <th>state</th>\n",
       "      <th>state_po</th>\n",
       "      <th>party</th>\n",
       "      <th>candidatevotes</th>\n",
       "      <th>totalvotes</th>\n",
       "      <th>unofficial</th>\n",
       "      <th>district</th>\n",
       "    </tr>\n",
       "  </thead>\n",
       "  <tbody>\n",
       "    <tr>\n",
       "      <th>29636</th>\n",
       "      <td>2020</td>\n",
       "      <td>ALABAMA</td>\n",
       "      <td>AL</td>\n",
       "      <td>DEMOCRAT</td>\n",
       "      <td>116949</td>\n",
       "      <td>329075</td>\n",
       "      <td>False</td>\n",
       "      <td>1</td>\n",
       "    </tr>\n",
       "    <tr>\n",
       "      <th>29637</th>\n",
       "      <td>2020</td>\n",
       "      <td>ALABAMA</td>\n",
       "      <td>AL</td>\n",
       "      <td>REPUBLICAN</td>\n",
       "      <td>211825</td>\n",
       "      <td>329075</td>\n",
       "      <td>False</td>\n",
       "      <td>1</td>\n",
       "    </tr>\n",
       "    <tr>\n",
       "      <th>29638</th>\n",
       "      <td>2020</td>\n",
       "      <td>ALABAMA</td>\n",
       "      <td>AL</td>\n",
       "      <td>OTHER</td>\n",
       "      <td>301</td>\n",
       "      <td>329075</td>\n",
       "      <td>False</td>\n",
       "      <td>1</td>\n",
       "    </tr>\n",
       "    <tr>\n",
       "      <th>29639</th>\n",
       "      <td>2020</td>\n",
       "      <td>ALABAMA</td>\n",
       "      <td>AL</td>\n",
       "      <td>REPUBLICAN</td>\n",
       "      <td>197996</td>\n",
       "      <td>303569</td>\n",
       "      <td>False</td>\n",
       "      <td>2</td>\n",
       "    </tr>\n",
       "    <tr>\n",
       "      <th>29640</th>\n",
       "      <td>2020</td>\n",
       "      <td>ALABAMA</td>\n",
       "      <td>AL</td>\n",
       "      <td>DEMOCRAT</td>\n",
       "      <td>105286</td>\n",
       "      <td>303569</td>\n",
       "      <td>False</td>\n",
       "      <td>2</td>\n",
       "    </tr>\n",
       "  </tbody>\n",
       "</table>\n",
       "</div>"
      ],
      "text/plain": [
       "       year    state state_po       party  candidatevotes  totalvotes  \\\n",
       "29636  2020  ALABAMA       AL    DEMOCRAT          116949      329075   \n",
       "29637  2020  ALABAMA       AL  REPUBLICAN          211825      329075   \n",
       "29638  2020  ALABAMA       AL       OTHER             301      329075   \n",
       "29639  2020  ALABAMA       AL  REPUBLICAN          197996      303569   \n",
       "29640  2020  ALABAMA       AL    DEMOCRAT          105286      303569   \n",
       "\n",
       "       unofficial  district  \n",
       "29636       False         1  \n",
       "29637       False         1  \n",
       "29638       False         1  \n",
       "29639       False         2  \n",
       "29640       False         2  "
      ]
     },
     "execution_count": 5,
     "metadata": {},
     "output_type": "execute_result"
    }
   ],
   "source": [
    "house_df_2020_on = house_df.query('year >= 2020 and unofficial == False')\n",
    "print(house_df_2020_on.shape)\n",
    "house_df_2020_on.head()"
   ]
  },
  {
   "cell_type": "code",
   "execution_count": 9,
   "metadata": {},
   "outputs": [
    {
     "data": {
      "text/plain": [
       "year  state_po  party       \n",
       "2020  AK        DEMOCRAT        159856\n",
       "                OTHER             1183\n",
       "                REPUBLICAN      192126\n",
       "      AL        DEMOCRAT        608809\n",
       "                OTHER            26838\n",
       "                                 ...  \n",
       "2022  WY        CONSTITUTION      4505\n",
       "                DEMOCRAT         47250\n",
       "                LIBERTARIAN       5420\n",
       "                OTHER             8817\n",
       "                REPUBLICAN      132206\n",
       "Name: candidatevotes, Length: 469, dtype: int64"
      ]
     },
     "execution_count": 9,
     "metadata": {},
     "output_type": "execute_result"
    }
   ],
   "source": [
    "# We don't care about the districts so sum the votes for a party across all districts\n",
    "votes_by_year_state_party = house_df_2020_on.groupby(['year', 'state_po', 'party'])['candidatevotes'].sum()\n",
    "votes_by_year_state_party"
   ]
  },
  {
   "cell_type": "code",
   "execution_count": 10,
   "metadata": {},
   "outputs": [],
   "source": [
    "years = [2020, 2022]\n",
    "states = ['AL', 'AK', 'AZ', 'AR', 'CA', 'CO', 'CT', 'DE', 'FL', 'GA', 'HI', 'ID', 'IL', 'IN', \n",
    "        'IA', 'KS', 'KY', 'LA', 'ME', 'MD', 'MA', 'MI', 'MN', 'MS', 'MO', 'MT', 'NE', 'NV', \n",
    "        'NH', 'NJ', 'NM', 'NY', 'NC', 'ND', 'OH', 'OK', 'OR', 'PA', 'RI', 'SC', 'SD', 'TN', \n",
    "        'TX', 'UT', 'VT', 'VA', 'WA', 'WV', 'WI', 'WY']\n",
    "main_parties = ['DEMOCRAT', 'REPUBLICAN']"
   ]
  },
  {
   "cell_type": "code",
   "execution_count": 11,
   "metadata": {},
   "outputs": [
    {
     "name": "stdout",
     "output_type": "stream",
     "text": [
      "{'AL': {'DEMOCRAT': 608809, 'OTHER': 26838, 'REPUBLICAN': 1416012}, 'AK': {'DEMOCRAT': 159856, 'OTHER': 1183, 'REPUBLICAN': 192126}, 'AZ': {'DEMOCRAT': 1629318, 'REPUBLICAN': 1638516, 'OTHER': 415}, 'AR': {'DEMOCRAT': 330485, 'OTHER': 20645, 'REPUBLICAN': 828266}, 'CA': {'DEMOCRAT': 11084234, 'REPUBLICAN': 5640667}, 'CO': {'OTHER': 107650, 'DEMOCRAT': 1679052, 'REPUBLICAN': 1378248}, 'CT': {'DEMOCRAT': 1022792, 'OTHER': 73485, 'REPUBLICAN': 676650}, 'DE': {'DEMOCRAT': 281382, 'OTHER': 10496, 'REPUBLICAN': 196392}, 'FL': {'DEMOCRAT': 4942287, 'OTHER': 53340, 'REPUBLICAN': 5469163}, 'GA': {'DEMOCRAT': 2393089, 'REPUBLICAN': 2490396, 'OTHER': 126}, 'HI': {'OTHER': 69807, 'DEMOCRAT': 354762, 'REPUBLICAN': 155215}, 'ID': {'OTHER': 32973, 'DEMOCRAT': 255531, 'REPUBLICAN': 561405}, 'IL': {'DEMOCRAT': 3355487, 'OTHER': 104403, 'REPUBLICAN': 2416929}, 'IN': {'DEMOCRAT': 1194901, 'OTHER': 62798, 'REPUBLICAN': 1738745}, 'IA': {'DEMOCRAT': 762271, 'OTHER': 78579, 'REPUBLICAN': 859418}, 'KS': {'DEMOCRAT': 557258, 'OTHER': 25797, 'REPUBLICAN': 775898}, 'KY': {'DEMOCRAT': 735419, 'OTHER': 16512, 'REPUBLICAN': 1363964}, 'LA': {'DEMOCRAT': 727402, 'OTHER': 49945, 'REPUBLICAN': 1369788}, 'ME': {'DEMOCRAT': 468978, 'OTHER': 19091, 'REPUBLICAN': 340236}, 'MD': {'DEMOCRAT': 1912740, 'OTHER': 13280, 'REPUBLICAN': 1028150}, 'MA': {'DEMOCRAT': 2482596, 'OTHER': 476408, 'REPUBLICAN': 699001}, 'MI': {'DEMOCRAT': 2688527, 'OTHER': 116732, 'REPUBLICAN': 2617881}, 'MN': {'DEMOCRAT': 1097777, 'OTHER': 621212, 'REPUBLICAN': 1474820}, 'MS': {'DEMOCRAT': 421014, 'REPUBLICAN': 806832}, 'MO': {'DEMOCRAT': 1172135, 'OTHER': 77304, 'REPUBLICAN': 1723982}, 'MT': {'DEMOCRAT': 262340, 'REPUBLICAN': 339169}, 'NE': {'DEMOCRAT': 326018, 'OTHER': 30046, 'REPUBLICAN': 585234}, 'NV': {'DEMOCRAT': 665526, 'OTHER': 56254, 'REPUBLICAN': 633827}, 'NH': {'DEMOCRAT': 413895, 'OTHER': 19162, 'REPUBLICAN': 354045}, 'NJ': {'OTHER': 50748, 'DEMOCRAT': 2539128, 'REPUBLICAN': 1843047}, 'NM': {'DEMOCRAT': 495781, 'REPUBLICAN': 407786, 'OTHER': 117}, 'NY': {'OTHER': 1265046, 'DEMOCRAT': 4728613, 'REPUBLICAN': 2696821}, 'NC': {'OTHER': 33374, 'DEMOCRAT': 2660535, 'REPUBLICAN': 2631336}, 'ND': {'OTHER': 110369, 'REPUBLICAN': 245229}, 'OH': {'DEMOCRAT': 2451500, 'OTHER': 57153, 'REPUBLICAN': 3252887}, 'OK': {'DEMOCRAT': 475731, 'OTHER': 31477, 'REPUBLICAN': 1044175}, 'OR': {'DEMOCRAT': 1285339, 'OTHER': 56064, 'REPUBLICAN': 966786}, 'PA': {'DEMOCRAT': 3346712, 'REPUBLICAN': 3432595}, 'RI': {'DEMOCRAT': 312636, 'OTHER': 65887, 'REPUBLICAN': 109894}, 'SC': {'OTHER': 15959, 'DEMOCRAT': 1076799, 'REPUBLICAN': 1412684}, 'SD': {'OTHER': 75748, 'REPUBLICAN': 321984}, 'TN': {'DEMOCRAT': 1105537, 'OTHER': 50952, 'REPUBLICAN': 1685255}, 'TX': {'DEMOCRAT': 4896673, 'OTHER': 270241, 'REPUBLICAN': 5926712}, 'UT': {'OTHER': 52939, 'DEMOCRAT': 505946, 'REPUBLICAN': 873347}, 'VT': {'OTHER': 36311, 'DEMOCRAT': 238827, 'REPUBLICAN': 95830}, 'VA': {'DEMOCRAT': 2253974, 'OTHER': 33827, 'REPUBLICAN': 2047635}, 'WA': {'DEMOCRAT': 2340356, 'OTHER': 58441, 'REPUBLICAN': 1545436}, 'WV': {'DEMOCRAT': 246903, 'REPUBLICAN': 514268, 'OTHER': 214}, 'WI': {'DEMOCRAT': 1566671, 'OTHER': 9981, 'REPUBLICAN': 1661399}, 'WY': {'OTHER': 26195, 'DEMOCRAT': 66576, 'REPUBLICAN': 185732}}\n"
     ]
    }
   ],
   "source": [
    "# make a dictionary where the first key:value is year:rest\n",
    "# next is state:rest\n",
    "# final is one of three parties (Democrat, Republican, Other) and their vote counts\n",
    "# votes => first is year:states => states:parties => parties:votes\n",
    "# votes[year][state][party] = votes\n",
    "votes = {}\n",
    "for year in years:\n",
    "    votes[year] = {}\n",
    "    for state in states:\n",
    "        votes[year][state] = {}\n",
    "        parties = list(votes_by_year_state_party[year][state].keys())\n",
    "        for party in parties:\n",
    "            if party in main_parties:\n",
    "                votes[year][state][party] = votes_by_year_state_party[year][state][party]\n",
    "            else:\n",
    "                try:\n",
    "                    votes[year][state]['OTHER'] += votes_by_year_state_party[year][state][party]\n",
    "                except:\n",
    "                    votes[year][state]['OTHER'] = votes_by_year_state_party[year][state][party] \n",
    "\n",
    "print(votes[2020])"
   ]
  },
  {
   "cell_type": "code",
   "execution_count": 12,
   "metadata": {},
   "outputs": [
    {
     "name": "stdout",
     "output_type": "stream",
     "text": [
      "{'DEMOCRAT': 608809, 'OTHER': 26838, 'REPUBLICAN': 1416012}\n"
     ]
    }
   ],
   "source": [
    "print(votes[2020]['AL'])\n",
    "# print(len(house_df_2020_on.query('year == 2020 and state_po == \"AL\"')))\n",
    "# house_df_2020_on.query('year == 2020 and state_po == \"AL\"')"
   ]
  },
  {
   "cell_type": "markdown",
   "metadata": {},
   "source": [
    "# 2020 Census"
   ]
  },
  {
   "cell_type": "code",
   "execution_count": 13,
   "metadata": {},
   "outputs": [
    {
     "data": {
      "text/html": [
       "<div>\n",
       "<style scoped>\n",
       "    .dataframe tbody tr th:only-of-type {\n",
       "        vertical-align: middle;\n",
       "    }\n",
       "\n",
       "    .dataframe tbody tr th {\n",
       "        vertical-align: top;\n",
       "    }\n",
       "\n",
       "    .dataframe thead th {\n",
       "        text-align: right;\n",
       "    }\n",
       "</style>\n",
       "<table border=\"1\" class=\"dataframe\">\n",
       "  <thead>\n",
       "    <tr style=\"text-align: right;\">\n",
       "      <th></th>\n",
       "      <th>AREA</th>\n",
       "      <th>CODE</th>\n",
       "      <th>POPULATION</th>\n",
       "    </tr>\n",
       "  </thead>\n",
       "  <tbody>\n",
       "    <tr>\n",
       "      <th>0</th>\n",
       "      <td>Alabama</td>\n",
       "      <td>AL</td>\n",
       "      <td>5024279</td>\n",
       "    </tr>\n",
       "    <tr>\n",
       "      <th>1</th>\n",
       "      <td>Alaska</td>\n",
       "      <td>AK</td>\n",
       "      <td>733391</td>\n",
       "    </tr>\n",
       "    <tr>\n",
       "      <th>2</th>\n",
       "      <td>Arizona</td>\n",
       "      <td>AZ</td>\n",
       "      <td>7151502</td>\n",
       "    </tr>\n",
       "    <tr>\n",
       "      <th>3</th>\n",
       "      <td>Arkansas</td>\n",
       "      <td>AR</td>\n",
       "      <td>3011524</td>\n",
       "    </tr>\n",
       "    <tr>\n",
       "      <th>4</th>\n",
       "      <td>California</td>\n",
       "      <td>CA</td>\n",
       "      <td>39538223</td>\n",
       "    </tr>\n",
       "  </tbody>\n",
       "</table>\n",
       "</div>"
      ],
      "text/plain": [
       "         AREA CODE  POPULATION\n",
       "0     Alabama   AL     5024279\n",
       "1      Alaska   AK      733391\n",
       "2     Arizona   AZ     7151502\n",
       "3    Arkansas   AR     3011524\n",
       "4  California   CA    39538223"
      ]
     },
     "execution_count": 13,
     "metadata": {},
     "output_type": "execute_result"
    }
   ],
   "source": [
    "census_df = pd.read_csv('../Data/2020-Census.csv')\n",
    "census_df[\"POPULATION\"] = census_df[\"POPULATION\"].str.replace(',', '').astype(int)\n",
    "census_df.head()"
   ]
  },
  {
   "cell_type": "code",
   "execution_count": 33,
   "metadata": {},
   "outputs": [
    {
     "data": {
      "text/plain": [
       "5024279"
      ]
     },
     "execution_count": 33,
     "metadata": {},
     "output_type": "execute_result"
    }
   ],
   "source": [
    "census_df.set_index(census_df['CODE'], inplace=True)\n",
    "census_df.loc['AL']['POPULATION']"
   ]
  },
  {
   "cell_type": "markdown",
   "metadata": {},
   "source": [
    "# COVID-19 Data"
   ]
  },
  {
   "cell_type": "code",
   "execution_count": 15,
   "metadata": {},
   "outputs": [
    {
     "name": "stdout",
     "output_type": "stream",
     "text": [
      "(79823, 135)\n"
     ]
    },
    {
     "data": {
      "text/html": [
       "<div>\n",
       "<style scoped>\n",
       "    .dataframe tbody tr th:only-of-type {\n",
       "        vertical-align: middle;\n",
       "    }\n",
       "\n",
       "    .dataframe tbody tr th {\n",
       "        vertical-align: top;\n",
       "    }\n",
       "\n",
       "    .dataframe thead th {\n",
       "        text-align: right;\n",
       "    }\n",
       "</style>\n",
       "<table border=\"1\" class=\"dataframe\">\n",
       "  <thead>\n",
       "    <tr style=\"text-align: right;\">\n",
       "      <th></th>\n",
       "      <th>date</th>\n",
       "      <th>state</th>\n",
       "      <th>total_previous_day_cases</th>\n",
       "    </tr>\n",
       "  </thead>\n",
       "  <tbody>\n",
       "    <tr>\n",
       "      <th>0</th>\n",
       "      <td>6/2/2021</td>\n",
       "      <td>PR</td>\n",
       "      <td>3.0</td>\n",
       "    </tr>\n",
       "    <tr>\n",
       "      <th>1</th>\n",
       "      <td>6/1/2021</td>\n",
       "      <td>ME</td>\n",
       "      <td>11.0</td>\n",
       "    </tr>\n",
       "    <tr>\n",
       "      <th>2</th>\n",
       "      <td>5/30/2021</td>\n",
       "      <td>MT</td>\n",
       "      <td>13.0</td>\n",
       "    </tr>\n",
       "    <tr>\n",
       "      <th>3</th>\n",
       "      <td>5/29/2021</td>\n",
       "      <td>AK</td>\n",
       "      <td>0.0</td>\n",
       "    </tr>\n",
       "    <tr>\n",
       "      <th>4</th>\n",
       "      <td>5/29/2021</td>\n",
       "      <td>MA</td>\n",
       "      <td>33.0</td>\n",
       "    </tr>\n",
       "  </tbody>\n",
       "</table>\n",
       "</div>"
      ],
      "text/plain": [
       "        date state  total_previous_day_cases\n",
       "0   6/2/2021    PR                       3.0\n",
       "1   6/1/2021    ME                      11.0\n",
       "2  5/30/2021    MT                      13.0\n",
       "3  5/29/2021    AK                       0.0\n",
       "4  5/29/2021    MA                      33.0"
      ]
     },
     "execution_count": 15,
     "metadata": {},
     "output_type": "execute_result"
    }
   ],
   "source": [
    "covid_df = pd.read_csv('../Data/COVID-19_Reported.csv')\n",
    "print(covid_df.shape)\n",
    "covid_df['total_previous_day_cases'] = covid_df['previous_day_admission_adult_covid_confirmed'].fillna(0) + covid_df['previous_day_admission_pediatric_covid_confirmed'].fillna(0)\n",
    "covid_df = covid_df[['date', 'state', 'total_previous_day_cases']]\n",
    "covid_df.head()\n",
    "# covid_df = covid_df[['state', 'date']]"
   ]
  },
  {
   "cell_type": "code",
   "execution_count": 16,
   "metadata": {},
   "outputs": [],
   "source": [
    "covid_df['month'] = covid_df['date'].str.split('/').str[0]\n",
    "covid_df['year'] = covid_df['date'].str.split('/').str[2]"
   ]
  },
  {
   "cell_type": "code",
   "execution_count": 17,
   "metadata": {},
   "outputs": [],
   "source": [
    "# Deaths by covid-19\n",
    "# deaths_by_year_month_state = covid_df.groupby(['year', 'month', 'state'])['deaths_covid'].sum()\n",
    "# print(deaths_by_year_month_state['2020']['3'].keys())"
   ]
  },
  {
   "cell_type": "code",
   "execution_count": 24,
   "metadata": {},
   "outputs": [],
   "source": [
    "# # Checking if all of the states are in each month\n",
    "# states = ['AL', 'AK', 'AZ', 'AR', 'CA', 'CO', 'CT', 'DE', 'FL', 'GA', 'HI', 'ID', 'IL', 'IN', \n",
    "#         'IA', 'KS', 'KY', 'LA', 'ME', 'MD', 'MA', 'MI', 'MN', 'MS', 'MO', 'MT', 'NE', 'NV', \n",
    "#         'NH', 'NJ', 'NM', 'NY', 'NC', 'ND', 'OH', 'OK', 'OR', 'PA', 'RI', 'SC', 'SD', 'TN', \n",
    "#         'TX', 'UT', 'VT', 'VA', 'WA', 'WV', 'WI', 'WY']\n",
    "# len_states = []\n",
    "# for i in range(1, 13):\n",
    "#     potential = list(cases_by_year_state['2020'][str(i)].keys())\n",
    "#     flag = True\n",
    "#     for s in states:\n",
    "#         if s not in potential:\n",
    "#             flag = False\n",
    "#             print(s)\n",
    "#             break\n",
    "#     len_states.append(flag)\n",
    "\n",
    "# # For the first two months of 2020, all of the states are not reporting data yet, \n",
    "# # so these months will be cut out, the rest are fine\n",
    "# len_states"
   ]
  },
  {
   "cell_type": "code",
   "execution_count": 22,
   "metadata": {},
   "outputs": [
    {
     "data": {
      "text/plain": [
       "Index(['AK', 'AL', 'AR', 'AZ', 'CA', 'CO', 'CT', 'DC', 'DE', 'FL', 'GA', 'HI',\n",
       "       'IA', 'ID', 'IL', 'IN', 'KS', 'KY', 'LA', 'MA', 'MD', 'ME', 'MI', 'MN',\n",
       "       'MO', 'MS', 'MT', 'NC', 'ND', 'NE', 'NH', 'NJ', 'NM', 'NV', 'NY', 'OH',\n",
       "       'OK', 'OR', 'PA', 'PR', 'RI', 'SC', 'SD', 'TN', 'TX', 'UT', 'VA', 'VI',\n",
       "       'VT', 'WA', 'WI', 'WV', 'WY'],\n",
       "      dtype='object', name='state')"
      ]
     },
     "execution_count": 22,
     "metadata": {},
     "output_type": "execute_result"
    }
   ],
   "source": [
    "cases_by_year_state = covid_df.groupby(['year', 'state'])['total_previous_day_cases'].sum()\n",
    "cases_by_year_state['2020'].keys()"
   ]
  },
  {
   "cell_type": "code",
   "execution_count": null,
   "metadata": {},
   "outputs": [],
   "source": []
  }
 ],
 "metadata": {
  "kernelspec": {
   "display_name": "base",
   "language": "python",
   "name": "base"
  },
  "language_info": {
   "codemirror_mode": {
    "name": "ipython",
    "version": 3
   },
   "file_extension": ".py",
   "mimetype": "text/x-python",
   "name": "python",
   "nbconvert_exporter": "python",
   "pygments_lexer": "ipython3",
   "version": "3.9.16"
  }
 },
 "nbformat": 4,
 "nbformat_minor": 2
}
