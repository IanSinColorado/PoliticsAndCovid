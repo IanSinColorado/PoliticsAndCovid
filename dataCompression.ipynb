{
 "cells": [
  {
   "cell_type": "code",
   "execution_count": 3,
   "metadata": {},
   "outputs": [],
   "source": [
    "import numpy as np\n",
    "import pandas as pd\n",
    "import matplotlib.pyplot as plt\n",
    "import seaborn as sns"
   ]
  },
  {
   "cell_type": "code",
   "execution_count": 4,
   "metadata": {},
   "outputs": [
    {
     "name": "stdout",
     "output_type": "stream",
     "text": [
      "(32452, 20)\n"
     ]
    },
    {
     "data": {
      "text/html": [
       "<div>\n",
       "<style scoped>\n",
       "    .dataframe tbody tr th:only-of-type {\n",
       "        vertical-align: middle;\n",
       "    }\n",
       "\n",
       "    .dataframe tbody tr th {\n",
       "        vertical-align: top;\n",
       "    }\n",
       "\n",
       "    .dataframe thead th {\n",
       "        text-align: right;\n",
       "    }\n",
       "</style>\n",
       "<table border=\"1\" class=\"dataframe\">\n",
       "  <thead>\n",
       "    <tr style=\"text-align: right;\">\n",
       "      <th></th>\n",
       "      <th>year</th>\n",
       "      <th>state</th>\n",
       "      <th>state_po</th>\n",
       "      <th>party</th>\n",
       "      <th>candidatevotes</th>\n",
       "      <th>totalvotes</th>\n",
       "      <th>unofficial</th>\n",
       "      <th>district</th>\n",
       "    </tr>\n",
       "  </thead>\n",
       "  <tbody>\n",
       "    <tr>\n",
       "      <th>0</th>\n",
       "      <td>1976</td>\n",
       "      <td>ALABAMA</td>\n",
       "      <td>AL</td>\n",
       "      <td>DEMOCRAT</td>\n",
       "      <td>58906</td>\n",
       "      <td>157170</td>\n",
       "      <td>False</td>\n",
       "      <td>1</td>\n",
       "    </tr>\n",
       "    <tr>\n",
       "      <th>1</th>\n",
       "      <td>1976</td>\n",
       "      <td>ALABAMA</td>\n",
       "      <td>AL</td>\n",
       "      <td>REPUBLICAN</td>\n",
       "      <td>98257</td>\n",
       "      <td>157170</td>\n",
       "      <td>False</td>\n",
       "      <td>1</td>\n",
       "    </tr>\n",
       "    <tr>\n",
       "      <th>2</th>\n",
       "      <td>1976</td>\n",
       "      <td>ALABAMA</td>\n",
       "      <td>AL</td>\n",
       "      <td>NaN</td>\n",
       "      <td>7</td>\n",
       "      <td>157170</td>\n",
       "      <td>False</td>\n",
       "      <td>1</td>\n",
       "    </tr>\n",
       "    <tr>\n",
       "      <th>3</th>\n",
       "      <td>1976</td>\n",
       "      <td>ALABAMA</td>\n",
       "      <td>AL</td>\n",
       "      <td>DEMOCRAT</td>\n",
       "      <td>66288</td>\n",
       "      <td>156362</td>\n",
       "      <td>False</td>\n",
       "      <td>2</td>\n",
       "    </tr>\n",
       "    <tr>\n",
       "      <th>4</th>\n",
       "      <td>1976</td>\n",
       "      <td>ALABAMA</td>\n",
       "      <td>AL</td>\n",
       "      <td>REPUBLICAN</td>\n",
       "      <td>90069</td>\n",
       "      <td>156362</td>\n",
       "      <td>False</td>\n",
       "      <td>2</td>\n",
       "    </tr>\n",
       "  </tbody>\n",
       "</table>\n",
       "</div>"
      ],
      "text/plain": [
       "   year    state state_po       party  candidatevotes  totalvotes  unofficial  \\\n",
       "0  1976  ALABAMA       AL    DEMOCRAT           58906      157170       False   \n",
       "1  1976  ALABAMA       AL  REPUBLICAN           98257      157170       False   \n",
       "2  1976  ALABAMA       AL         NaN               7      157170       False   \n",
       "3  1976  ALABAMA       AL    DEMOCRAT           66288      156362       False   \n",
       "4  1976  ALABAMA       AL  REPUBLICAN           90069      156362       False   \n",
       "\n",
       "   district  \n",
       "0         1  \n",
       "1         1  \n",
       "2         1  \n",
       "3         2  \n",
       "4         2  "
      ]
     },
     "execution_count": 4,
     "metadata": {},
     "output_type": "execute_result"
    }
   ],
   "source": [
    "house_df = pd.read_csv('../Data/1976-2022-house.csv')\n",
    "print(house_df.shape)\n",
    "house_df = house_df[['year', 'state', 'state_po', 'party', 'candidatevotes', 'totalvotes', 'unofficial', 'district']]\n",
    "house_df.head()"
   ]
  },
  {
   "cell_type": "code",
   "execution_count": 5,
   "metadata": {},
   "outputs": [
    {
     "data": {
      "text/html": [
       "<div>\n",
       "<style scoped>\n",
       "    .dataframe tbody tr th:only-of-type {\n",
       "        vertical-align: middle;\n",
       "    }\n",
       "\n",
       "    .dataframe tbody tr th {\n",
       "        vertical-align: top;\n",
       "    }\n",
       "\n",
       "    .dataframe thead th {\n",
       "        text-align: right;\n",
       "    }\n",
       "</style>\n",
       "<table border=\"1\" class=\"dataframe\">\n",
       "  <thead>\n",
       "    <tr style=\"text-align: right;\">\n",
       "      <th></th>\n",
       "      <th>year</th>\n",
       "      <th>state</th>\n",
       "      <th>state_po</th>\n",
       "      <th>party</th>\n",
       "      <th>candidatevotes</th>\n",
       "      <th>totalvotes</th>\n",
       "      <th>unofficial</th>\n",
       "      <th>district</th>\n",
       "    </tr>\n",
       "  </thead>\n",
       "  <tbody>\n",
       "    <tr>\n",
       "      <th>0</th>\n",
       "      <td>1976</td>\n",
       "      <td>ALABAMA</td>\n",
       "      <td>AL</td>\n",
       "      <td>DEMOCRAT</td>\n",
       "      <td>58906</td>\n",
       "      <td>157170</td>\n",
       "      <td>False</td>\n",
       "      <td>1</td>\n",
       "    </tr>\n",
       "    <tr>\n",
       "      <th>1</th>\n",
       "      <td>1976</td>\n",
       "      <td>ALABAMA</td>\n",
       "      <td>AL</td>\n",
       "      <td>REPUBLICAN</td>\n",
       "      <td>98257</td>\n",
       "      <td>157170</td>\n",
       "      <td>False</td>\n",
       "      <td>1</td>\n",
       "    </tr>\n",
       "    <tr>\n",
       "      <th>2</th>\n",
       "      <td>1976</td>\n",
       "      <td>ALABAMA</td>\n",
       "      <td>AL</td>\n",
       "      <td>OTHER</td>\n",
       "      <td>7</td>\n",
       "      <td>157170</td>\n",
       "      <td>False</td>\n",
       "      <td>1</td>\n",
       "    </tr>\n",
       "    <tr>\n",
       "      <th>3</th>\n",
       "      <td>1976</td>\n",
       "      <td>ALABAMA</td>\n",
       "      <td>AL</td>\n",
       "      <td>DEMOCRAT</td>\n",
       "      <td>66288</td>\n",
       "      <td>156362</td>\n",
       "      <td>False</td>\n",
       "      <td>2</td>\n",
       "    </tr>\n",
       "    <tr>\n",
       "      <th>4</th>\n",
       "      <td>1976</td>\n",
       "      <td>ALABAMA</td>\n",
       "      <td>AL</td>\n",
       "      <td>REPUBLICAN</td>\n",
       "      <td>90069</td>\n",
       "      <td>156362</td>\n",
       "      <td>False</td>\n",
       "      <td>2</td>\n",
       "    </tr>\n",
       "  </tbody>\n",
       "</table>\n",
       "</div>"
      ],
      "text/plain": [
       "   year    state state_po       party  candidatevotes  totalvotes  unofficial  \\\n",
       "0  1976  ALABAMA       AL    DEMOCRAT           58906      157170       False   \n",
       "1  1976  ALABAMA       AL  REPUBLICAN           98257      157170       False   \n",
       "2  1976  ALABAMA       AL       OTHER               7      157170       False   \n",
       "3  1976  ALABAMA       AL    DEMOCRAT           66288      156362       False   \n",
       "4  1976  ALABAMA       AL  REPUBLICAN           90069      156362       False   \n",
       "\n",
       "   district  \n",
       "0         1  \n",
       "1         1  \n",
       "2         1  \n",
       "3         2  \n",
       "4         2  "
      ]
     },
     "execution_count": 5,
     "metadata": {},
     "output_type": "execute_result"
    }
   ],
   "source": [
    "# Won't count votes if the party is NaN, so replace with OTHER\n",
    "house_df['party'].fillna('OTHER', inplace=True)\n",
    "house_df.head()"
   ]
  },
  {
   "cell_type": "code",
   "execution_count": 6,
   "metadata": {},
   "outputs": [
    {
     "name": "stdout",
     "output_type": "stream",
     "text": [
      "['AL' 'AK' 'AZ' 'AR' 'CA' 'CO' 'CT' 'DE' 'FL' 'GA' 'HI' 'ID' 'IL' 'IN'\n",
      " 'IA' 'KS' 'KY' 'LA' 'ME' 'MD' 'MA' 'MI' 'MN' 'MS' 'MO' 'MT' 'NE' 'NV'\n",
      " 'NH' 'NJ' 'NM' 'NY' 'NC' 'ND' 'OH' 'OK' 'OR' 'PA' 'RI' 'SC' 'SD' 'TN'\n",
      " 'TX' 'UT' 'VT' 'VA' 'WA' 'WV' 'WI' 'WY' 'DC']\n"
     ]
    }
   ],
   "source": [
    "print(house_df['state_po'].unique())"
   ]
  },
  {
   "cell_type": "code",
   "execution_count": 7,
   "metadata": {},
   "outputs": [
    {
     "name": "stdout",
     "output_type": "stream",
     "text": [
      "(2816, 8)\n"
     ]
    },
    {
     "data": {
      "text/html": [
       "<div>\n",
       "<style scoped>\n",
       "    .dataframe tbody tr th:only-of-type {\n",
       "        vertical-align: middle;\n",
       "    }\n",
       "\n",
       "    .dataframe tbody tr th {\n",
       "        vertical-align: top;\n",
       "    }\n",
       "\n",
       "    .dataframe thead th {\n",
       "        text-align: right;\n",
       "    }\n",
       "</style>\n",
       "<table border=\"1\" class=\"dataframe\">\n",
       "  <thead>\n",
       "    <tr style=\"text-align: right;\">\n",
       "      <th></th>\n",
       "      <th>year</th>\n",
       "      <th>state</th>\n",
       "      <th>state_po</th>\n",
       "      <th>party</th>\n",
       "      <th>candidatevotes</th>\n",
       "      <th>totalvotes</th>\n",
       "      <th>unofficial</th>\n",
       "      <th>district</th>\n",
       "    </tr>\n",
       "  </thead>\n",
       "  <tbody>\n",
       "    <tr>\n",
       "      <th>29636</th>\n",
       "      <td>2020</td>\n",
       "      <td>ALABAMA</td>\n",
       "      <td>AL</td>\n",
       "      <td>DEMOCRAT</td>\n",
       "      <td>116949</td>\n",
       "      <td>329075</td>\n",
       "      <td>False</td>\n",
       "      <td>1</td>\n",
       "    </tr>\n",
       "    <tr>\n",
       "      <th>29637</th>\n",
       "      <td>2020</td>\n",
       "      <td>ALABAMA</td>\n",
       "      <td>AL</td>\n",
       "      <td>REPUBLICAN</td>\n",
       "      <td>211825</td>\n",
       "      <td>329075</td>\n",
       "      <td>False</td>\n",
       "      <td>1</td>\n",
       "    </tr>\n",
       "    <tr>\n",
       "      <th>29638</th>\n",
       "      <td>2020</td>\n",
       "      <td>ALABAMA</td>\n",
       "      <td>AL</td>\n",
       "      <td>OTHER</td>\n",
       "      <td>301</td>\n",
       "      <td>329075</td>\n",
       "      <td>False</td>\n",
       "      <td>1</td>\n",
       "    </tr>\n",
       "    <tr>\n",
       "      <th>29639</th>\n",
       "      <td>2020</td>\n",
       "      <td>ALABAMA</td>\n",
       "      <td>AL</td>\n",
       "      <td>REPUBLICAN</td>\n",
       "      <td>197996</td>\n",
       "      <td>303569</td>\n",
       "      <td>False</td>\n",
       "      <td>2</td>\n",
       "    </tr>\n",
       "    <tr>\n",
       "      <th>29640</th>\n",
       "      <td>2020</td>\n",
       "      <td>ALABAMA</td>\n",
       "      <td>AL</td>\n",
       "      <td>DEMOCRAT</td>\n",
       "      <td>105286</td>\n",
       "      <td>303569</td>\n",
       "      <td>False</td>\n",
       "      <td>2</td>\n",
       "    </tr>\n",
       "  </tbody>\n",
       "</table>\n",
       "</div>"
      ],
      "text/plain": [
       "       year    state state_po       party  candidatevotes  totalvotes  \\\n",
       "29636  2020  ALABAMA       AL    DEMOCRAT          116949      329075   \n",
       "29637  2020  ALABAMA       AL  REPUBLICAN          211825      329075   \n",
       "29638  2020  ALABAMA       AL       OTHER             301      329075   \n",
       "29639  2020  ALABAMA       AL  REPUBLICAN          197996      303569   \n",
       "29640  2020  ALABAMA       AL    DEMOCRAT          105286      303569   \n",
       "\n",
       "       unofficial  district  \n",
       "29636       False         1  \n",
       "29637       False         1  \n",
       "29638       False         1  \n",
       "29639       False         2  \n",
       "29640       False         2  "
      ]
     },
     "execution_count": 7,
     "metadata": {},
     "output_type": "execute_result"
    }
   ],
   "source": [
    "house_df_2020_on = house_df.query('year >= 2020 and unofficial == False')\n",
    "print(house_df_2020_on.shape)\n",
    "house_df_2020_on.head()"
   ]
  },
  {
   "cell_type": "code",
   "execution_count": 8,
   "metadata": {},
   "outputs": [
    {
     "data": {
      "text/plain": [
       "party\n",
       "APPROVAL VOTING PARTY         1441\n",
       "DEMOCRAT                   1679052\n",
       "LIBERTARIAN                  79100\n",
       "REPUBLICAN                 1378248\n",
       "UNAFFILIATED                  3708\n",
       "UNITY PARTY OF COLORADO      23401\n",
       "Name: candidatevotes, dtype: int64"
      ]
     },
     "execution_count": 8,
     "metadata": {},
     "output_type": "execute_result"
    }
   ],
   "source": [
    "votes_by_year_state_party = house_df_2020_on.groupby(['year', 'state_po', 'party'])['candidatevotes'].sum()\n",
    "# bad = house_df_2020_on.groupby(['year', 'state_po', 'party'])['candidatevotes'].value_counts()\n",
    "votes_by_year_state_party[2020]['CO']\n",
    "# print(votes_by_year_state_party[2020]['CO']['DEMOCRAT'])\n",
    "# print(bad[2020]['CO'])\n",
    "# print(votes_by_year_state_party[2020]['CO'])\n",
    "# print(votes_by_year_state_party[2020]['CO']['DEMOCRAT'].keys())\n",
    "# print(votes_by_year_state_party[2020]['CO'].keys())"
   ]
  },
  {
   "cell_type": "code",
   "execution_count": 9,
   "metadata": {},
   "outputs": [],
   "source": [
    "years = [2020, 2022]\n",
    "states = ['AL', 'AK', 'AZ', 'AR', 'CA', 'CO', 'CT', 'DE', 'FL', 'GA', 'HI', 'ID', 'IL', 'IN', \n",
    "        'IA', 'KS', 'KY', 'LA', 'ME', 'MD', 'MA', 'MI', 'MN', 'MS', 'MO', 'MT', 'NE', 'NV', \n",
    "        'NH', 'NJ', 'NM', 'NY', 'NC', 'ND', 'OH', 'OK', 'OR', 'PA', 'RI', 'SC', 'SD', 'TN', \n",
    "        'TX', 'UT', 'VT', 'VA', 'WA', 'WV', 'WI', 'WY']\n",
    "main_parties = ['DEMOCRAT', 'REPUBLICAN']"
   ]
  },
  {
   "cell_type": "code",
   "execution_count": 10,
   "metadata": {},
   "outputs": [
    {
     "name": "stdout",
     "output_type": "stream",
     "text": [
      "{'AL': {'DEMOCRAT': 608809, 'OTHER': 26838, 'REPUBLICAN': 1416012}, 'AK': {'DEMOCRAT': 159856, 'OTHER': 1183, 'REPUBLICAN': 192126}, 'AZ': {'DEMOCRAT': 1629318, 'REPUBLICAN': 1638516, 'OTHER': 415}, 'AR': {'DEMOCRAT': 330485, 'OTHER': 20645, 'REPUBLICAN': 828266}, 'CA': {'DEMOCRAT': 11084234, 'REPUBLICAN': 5640667}, 'CO': {'OTHER': 107650, 'DEMOCRAT': 1679052, 'REPUBLICAN': 1378248}, 'CT': {'DEMOCRAT': 1022792, 'OTHER': 73485, 'REPUBLICAN': 676650}, 'DE': {'DEMOCRAT': 281382, 'OTHER': 10496, 'REPUBLICAN': 196392}, 'FL': {'DEMOCRAT': 4942287, 'OTHER': 53340, 'REPUBLICAN': 5469163}, 'GA': {'DEMOCRAT': 2393089, 'REPUBLICAN': 2490396, 'OTHER': 126}, 'HI': {'OTHER': 69807, 'DEMOCRAT': 354762, 'REPUBLICAN': 155215}, 'ID': {'OTHER': 32973, 'DEMOCRAT': 255531, 'REPUBLICAN': 561405}, 'IL': {'DEMOCRAT': 3355487, 'OTHER': 104403, 'REPUBLICAN': 2416929}, 'IN': {'DEMOCRAT': 1194901, 'OTHER': 62798, 'REPUBLICAN': 1738745}, 'IA': {'DEMOCRAT': 762271, 'OTHER': 78579, 'REPUBLICAN': 859418}, 'KS': {'DEMOCRAT': 557258, 'OTHER': 25797, 'REPUBLICAN': 775898}, 'KY': {'DEMOCRAT': 735419, 'OTHER': 16512, 'REPUBLICAN': 1363964}, 'LA': {'DEMOCRAT': 727402, 'OTHER': 49945, 'REPUBLICAN': 1369788}, 'ME': {'DEMOCRAT': 468978, 'OTHER': 19091, 'REPUBLICAN': 340236}, 'MD': {'DEMOCRAT': 1912740, 'OTHER': 13280, 'REPUBLICAN': 1028150}, 'MA': {'DEMOCRAT': 2482596, 'OTHER': 476408, 'REPUBLICAN': 699001}, 'MI': {'DEMOCRAT': 2688527, 'OTHER': 116732, 'REPUBLICAN': 2617881}, 'MN': {'DEMOCRAT': 1097777, 'OTHER': 621212, 'REPUBLICAN': 1474820}, 'MS': {'DEMOCRAT': 421014, 'REPUBLICAN': 806832}, 'MO': {'DEMOCRAT': 1172135, 'OTHER': 77304, 'REPUBLICAN': 1723982}, 'MT': {'DEMOCRAT': 262340, 'REPUBLICAN': 339169}, 'NE': {'DEMOCRAT': 326018, 'OTHER': 30046, 'REPUBLICAN': 585234}, 'NV': {'DEMOCRAT': 665526, 'OTHER': 56254, 'REPUBLICAN': 633827}, 'NH': {'DEMOCRAT': 413895, 'OTHER': 19162, 'REPUBLICAN': 354045}, 'NJ': {'OTHER': 50748, 'DEMOCRAT': 2539128, 'REPUBLICAN': 1843047}, 'NM': {'DEMOCRAT': 495781, 'REPUBLICAN': 407786, 'OTHER': 117}, 'NY': {'OTHER': 1265046, 'DEMOCRAT': 4728613, 'REPUBLICAN': 2696821}, 'NC': {'OTHER': 33374, 'DEMOCRAT': 2660535, 'REPUBLICAN': 2631336}, 'ND': {'OTHER': 110369, 'REPUBLICAN': 245229}, 'OH': {'DEMOCRAT': 2451500, 'OTHER': 57153, 'REPUBLICAN': 3252887}, 'OK': {'DEMOCRAT': 475731, 'OTHER': 31477, 'REPUBLICAN': 1044175}, 'OR': {'DEMOCRAT': 1285339, 'OTHER': 56064, 'REPUBLICAN': 966786}, 'PA': {'DEMOCRAT': 3346712, 'REPUBLICAN': 3432595}, 'RI': {'DEMOCRAT': 312636, 'OTHER': 65887, 'REPUBLICAN': 109894}, 'SC': {'OTHER': 15959, 'DEMOCRAT': 1076799, 'REPUBLICAN': 1412684}, 'SD': {'OTHER': 75748, 'REPUBLICAN': 321984}, 'TN': {'DEMOCRAT': 1105537, 'OTHER': 50952, 'REPUBLICAN': 1685255}, 'TX': {'DEMOCRAT': 4896673, 'OTHER': 270241, 'REPUBLICAN': 5926712}, 'UT': {'OTHER': 52939, 'DEMOCRAT': 505946, 'REPUBLICAN': 873347}, 'VT': {'OTHER': 36311, 'DEMOCRAT': 238827, 'REPUBLICAN': 95830}, 'VA': {'DEMOCRAT': 2253974, 'OTHER': 33827, 'REPUBLICAN': 2047635}, 'WA': {'DEMOCRAT': 2340356, 'OTHER': 58441, 'REPUBLICAN': 1545436}, 'WV': {'DEMOCRAT': 246903, 'REPUBLICAN': 514268, 'OTHER': 214}, 'WI': {'DEMOCRAT': 1566671, 'OTHER': 9981, 'REPUBLICAN': 1661399}, 'WY': {'OTHER': 26195, 'DEMOCRAT': 66576, 'REPUBLICAN': 185732}}\n"
     ]
    }
   ],
   "source": [
    "# make a dictionary where the first key:value is year:rest\n",
    "# next is state:rest\n",
    "# final is one of three parties (Democrat, Republican, Other) and their vote counts\n",
    "# votes => first is year:states => states:parties => parties:votes\n",
    "# votes[year][state][party] = votes\n",
    "votes = {}\n",
    "for year in years:\n",
    "    votes[year] = {}\n",
    "    for state in states:\n",
    "        votes[year][state] = {}\n",
    "        parties = list(votes_by_year_state_party[year][state].keys())\n",
    "        for party in parties:\n",
    "            if party in main_parties:\n",
    "                votes[year][state][party] = votes_by_year_state_party[year][state][party]\n",
    "            else:\n",
    "                try:\n",
    "                    votes[year][state]['OTHER'] += votes_by_year_state_party[year][state][party]\n",
    "                except:\n",
    "                    votes[year][state]['OTHER'] = votes_by_year_state_party[year][state][party] \n",
    "\n",
    "print(votes[2020])"
   ]
  },
  {
   "cell_type": "code",
   "execution_count": 11,
   "metadata": {},
   "outputs": [
    {
     "name": "stdout",
     "output_type": "stream",
     "text": [
      "{'DEMOCRAT': 608809, 'OTHER': 26838, 'REPUBLICAN': 1416012}\n"
     ]
    }
   ],
   "source": [
    "print(votes[2020]['AL'])\n",
    "# print(len(house_df_2020_on.query('year == 2020 and state_po == \"AL\"')))\n",
    "# house_df_2020_on.query('year == 2020 and state_po == \"AL\"')"
   ]
  },
  {
   "cell_type": "markdown",
   "metadata": {},
   "source": [
    "# COVID-19 Data"
   ]
  },
  {
   "cell_type": "code",
   "execution_count": 19,
   "metadata": {},
   "outputs": [
    {
     "name": "stdout",
     "output_type": "stream",
     "text": [
      "(79823, 135)\n"
     ]
    }
   ],
   "source": [
    "covid_df = pd.read_csv('../Data/COVID-19_Reported.csv')\n",
    "print(covid_df.shape)\n",
    "covid_df.head()\n",
    "covid_df = covid_df[['state', 'date', 'deaths_covid']]"
   ]
  },
  {
   "cell_type": "code",
   "execution_count": 20,
   "metadata": {},
   "outputs": [],
   "source": [
    "covid_df['month'] = covid_df['date'].str.split('/').str[0]\n",
    "covid_df['year'] = covid_df['date'].str.split('/').str[2]"
   ]
  },
  {
   "cell_type": "code",
   "execution_count": 21,
   "metadata": {},
   "outputs": [
    {
     "name": "stdout",
     "output_type": "stream",
     "text": [
      "1\n",
      "2020\n"
     ]
    }
   ],
   "source": [
    "print(min(covid_df['month'].unique()))\n",
    "print(min(covid_df['year'].unique()))"
   ]
  },
  {
   "cell_type": "code",
   "execution_count": 42,
   "metadata": {},
   "outputs": [
    {
     "name": "stdout",
     "output_type": "stream",
     "text": [
      "Index(['AK', 'AL', 'AR', 'AZ', 'CA', 'CO', 'CT', 'DC', 'DE', 'FL', 'GA', 'HI',\n",
      "       'IA', 'ID', 'IL', 'IN', 'KS', 'KY', 'LA', 'MA', 'MD', 'ME', 'MI', 'MN',\n",
      "       'MO', 'MS', 'MT', 'NC', 'ND', 'NE', 'NH', 'NJ', 'NM', 'NV', 'NY', 'OH',\n",
      "       'OK', 'OR', 'PA', 'PR', 'RI', 'SC', 'SD', 'TN', 'TX', 'UT', 'VA', 'VI',\n",
      "       'VT', 'WA', 'WI', 'WV', 'WY'],\n",
      "      dtype='object', name='state')\n"
     ]
    }
   ],
   "source": [
    "deaths_by_year_month_state = covid_df.groupby(['year', 'month', 'state'])['deaths_covid'].sum()\n",
    "print(deaths_by_year_month_state['2020']['4'].keys())"
   ]
  },
  {
   "cell_type": "code",
   "execution_count": 40,
   "metadata": {},
   "outputs": [
    {
     "data": {
      "text/plain": [
       "[54, 54, 54, 54, 54, 54, 54, 54, 54, 54, 54, 54]"
      ]
     },
     "execution_count": 40,
     "metadata": {},
     "output_type": "execute_result"
    }
   ],
   "source": [
    "len_states = []\n",
    "for i in range(1, 13):\n",
    "    len_states.append(len(deaths_by_year_month_state['2023'][str(i)].keys()))\n",
    "\n",
    "len_states"
   ]
  },
  {
   "cell_type": "code",
   "execution_count": null,
   "metadata": {},
   "outputs": [],
   "source": []
  }
 ],
 "metadata": {
  "kernelspec": {
   "display_name": "base",
   "language": "python",
   "name": "base"
  },
  "language_info": {
   "codemirror_mode": {
    "name": "ipython",
    "version": 3
   },
   "file_extension": ".py",
   "mimetype": "text/x-python",
   "name": "python",
   "nbconvert_exporter": "python",
   "pygments_lexer": "ipython3",
   "version": "3.9.16"
  }
 },
 "nbformat": 4,
 "nbformat_minor": 2
}
